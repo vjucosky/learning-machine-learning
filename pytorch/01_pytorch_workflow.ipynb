{
 "cells": [
  {
   "cell_type": "markdown",
   "id": "c3d93d8c",
   "metadata": {},
   "source": [
    "## PyTorch Workflow\n",
    "\n",
    "1. Obtendo dados\n",
    "2. Construção do modelo\n",
    "3. Fitting\n",
    "4. Predições e evaluações\n",
    "5. Salvando e carregando o modelo\n",
    "6. Juntando tudo"
   ]
  },
  {
   "cell_type": "code",
   "execution_count": 1,
   "id": "368d9578",
   "metadata": {},
   "outputs": [],
   "source": [
    "import matplotlib.pyplot as plt\n",
    "import torch.nn as nn\n",
    "import torch"
   ]
  },
  {
   "cell_type": "markdown",
   "id": "c08a6f04",
   "metadata": {},
   "source": [
    "### Obtendo dados\n",
    "\n",
    "Machine learning é um jogo de duas partes:\n",
    "\n",
    "1. Obter uma representação numérica para os dados; e\n",
    "2. Construir um modelo que encontra padrões na representação numérica.\n",
    "\n",
    "Para demonstrar isso, iremos criar um conjunto de dados _conhecido_ utilizando uma fórmula.\n",
    "\n",
    "Vamos construir uma linha reta com parâmetros conhecidos."
   ]
  },
  {
   "cell_type": "code",
   "execution_count": 2,
   "id": "203c588c",
   "metadata": {},
   "outputs": [],
   "source": [
    "weight = 0.7\n",
    "bias = 0.3\n",
    "\n",
    "start = 0\n",
    "end = 1\n",
    "step = 0.02\n",
    "\n",
    "X = torch.arange(start, end, step).unsqueeze(dim=1)\n",
    "Y = weight * X + bias # y = ax + b"
   ]
  },
  {
   "cell_type": "code",
   "execution_count": 3,
   "id": "1e277a67",
   "metadata": {},
   "outputs": [
    {
     "name": "stdout",
     "output_type": "stream",
     "text": [
      "tensor([[0.0000],\n",
      "        [0.0200],\n",
      "        [0.0400],\n",
      "        [0.0600],\n",
      "        [0.0800]]) 50\n",
      "tensor([[0.3000],\n",
      "        [0.3140],\n",
      "        [0.3280],\n",
      "        [0.3420],\n",
      "        [0.3560]]) 50\n"
     ]
    }
   ],
   "source": [
    "print(X[:5], len(X))\n",
    "print(Y[:5], len(Y))"
   ]
  },
  {
   "cell_type": "markdown",
   "id": "e501ecab",
   "metadata": {},
   "source": [
    "Separando em datasets de treinamento e teste:"
   ]
  },
  {
   "cell_type": "code",
   "execution_count": 4,
   "id": "b16014ef",
   "metadata": {},
   "outputs": [
    {
     "name": "stdout",
     "output_type": "stream",
     "text": [
      "40 10\n",
      "40 10\n"
     ]
    }
   ],
   "source": [
    "training_split = 40\n",
    "\n",
    "X_TRAIN, Y_TRAIN = X[:training_split], Y[:training_split]\n",
    "X_TEST, Y_TEST = X[training_split:], Y[training_split:]\n",
    "\n",
    "print(len(X_TRAIN), len(X_TEST))\n",
    "print(len(Y_TRAIN), len(Y_TEST))"
   ]
  },
  {
   "cell_type": "code",
   "execution_count": 5,
   "id": "1f495fb3",
   "metadata": {},
   "outputs": [],
   "source": [
    "def plot(train_data=X_TRAIN, train_labels=Y_TRAIN, test_data=X_TEST, test_labels=Y_TEST, predictions=None):\n",
    "    plt.figure(figsize=(10, 7))\n",
    "\n",
    "    # Dados de treinamento em azul:\n",
    "    plt.scatter(train_data, train_labels, c='blue', s=4, label='Training data')\n",
    "\n",
    "    # Dados de teste em vermelho:\n",
    "    plt.scatter(test_data, test_labels, c='red', s=4, label='Testing data')\n",
    "\n",
    "    if predictions is not None:\n",
    "        plt.scatter(test_data, predictions, c='green', s=4, label='Predictions')\n",
    "\n",
    "    plt.legend(prop={'size': 14})"
   ]
  },
  {
   "cell_type": "code",
   "execution_count": 6,
   "id": "2b976809",
   "metadata": {},
   "outputs": [
    {
     "data": {
      "image/png": "[encoded data removed]",
      "text/plain": [
       "<Figure size 1000x700 with 1 Axes>"
      ]
     },
     "metadata": {},
     "output_type": "display_data"
    }
   ],
   "source": [
    "plot()"
   ]
  },
  {
   "cell_type": "markdown",
   "id": "b5784814",
   "metadata": {},
   "source": [
    "### Construção do modelo\n",
    "\n",
    "O que o modelo faz:\n",
    "\n",
    "* Inicia com valores aleatórios (`weight` e `bias`); e\n",
    "* Observa os dados de treinamento e ajusta os valores aleatórios para melhor representar os valores ideais (desconhecidos pelo modelo).\n",
    "\n",
    "Como ele faz isso? Através de dois algoritmos principais:\n",
    "\n",
    "* Gradient descent\n",
    "* Backpropagation"
   ]
  },
  {
   "cell_type": "code",
   "execution_count": 7,
   "id": "bc22a165",
   "metadata": {},
   "outputs": [],
   "source": [
    "class LinearRegressionModel(nn.Module):\n",
    "    def __init__(self):\n",
    "        super().__init__()\n",
    "\n",
    "        self.weights = nn.Parameter(torch.randn(1, requires_grad=True))\n",
    "        self.bias = nn.Parameter(torch.randn(1, requires_grad=True))\n",
    "\n",
    "    def forward(self, x: torch.Tensor):\n",
    "        return self.weights * x + self.bias # y = ax + b"
   ]
  },
  {
   "cell_type": "code",
   "execution_count": 8,
   "id": "bdf03f66",
   "metadata": {},
   "outputs": [
    {
     "name": "stdout",
     "output_type": "stream",
     "text": [
      "[Parameter containing:\n",
      "tensor([0.3367], requires_grad=True), Parameter containing:\n",
      "tensor([0.1288], requires_grad=True)]\n",
      "OrderedDict([('weights', tensor([0.3367])), ('bias', tensor([0.1288]))])\n"
     ]
    }
   ],
   "source": [
    "torch.manual_seed(42)\n",
    "\n",
    "linear_regression_model = LinearRegressionModel()\n",
    "\n",
    "print(list(linear_regression_model.parameters()))\n",
    "print(linear_regression_model.state_dict())"
   ]
  },
  {
   "cell_type": "markdown",
   "id": "d8235420",
   "metadata": {},
   "source": [
    "### Fazendo predições\n",
    "\n",
    "Para verificar a capacidade preditiva de nosso modelo, vejamos como ele prediz `Y_TEST` baseando-se em `X_TEST`.\n",
    "\n",
    "Quando passamos dados pelo modelo, ele irá executar o método `forward`."
   ]
  },
  {
   "cell_type": "code",
   "execution_count": 9,
   "id": "4d87b711",
   "metadata": {},
   "outputs": [
    {
     "name": "stdout",
     "output_type": "stream",
     "text": [
      "tensor([[0.3982],\n",
      "        [0.4049],\n",
      "        [0.4116],\n",
      "        [0.4184],\n",
      "        [0.4251],\n",
      "        [0.4318],\n",
      "        [0.4386],\n",
      "        [0.4453],\n",
      "        [0.4520],\n",
      "        [0.4588]])\n"
     ]
    }
   ],
   "source": [
    "with torch.inference_mode():\n",
    "    predictions = linear_regression_model(X_TEST)\n",
    "\n",
    "print(predictions)"
   ]
  },
  {
   "cell_type": "code",
   "execution_count": 10,
   "id": "e4dff5e3",
   "metadata": {},
   "outputs": [
    {
     "data": {
      "image/png": "[encoded data removed]",
      "text/plain": [
       "<Figure size 1000x700 with 1 Axes>"
      ]
     },
     "metadata": {},
     "output_type": "display_data"
    }
   ],
   "source": [
    "plot(predictions=predictions)"
   ]
  },
  {
   "cell_type": "markdown",
   "id": "0fcc14fa",
   "metadata": {},
   "source": [
    "### Treinamento do modelo\n",
    "\n",
    "O objetivo do treinamento é fazer com que os parâmetros do modelo saiam de um estado desconhecido (que pode ser aleatório) para um estado conhecido. Ou, em outras palavras, de uma representação pobre dos dados para uma representação melhor.\n",
    "\n",
    "Um modo de averiguar o quão boas ou ruins as predições do modelo estão é através de uma _loss function_.\n",
    "\n",
    "Coisas necessárias para construir um modelo:\n",
    "\n",
    "* _Loss function_: uma função para medir o quão errado o modelo está (menor é melhor).\n",
    "* _Optimizer_: ajusta os parâmetros do modelo com base no retorno da _loss function_.\n",
    "* _Training loop_: específico do PyTorch.\n",
    "* _Test loop_: específico do PyTorch.\n",
    "\n",
    "Nota: _loss function_ também pode ser chamada de _cost function_ ou _criterion_, dependendo do contexto e área. Neste estudo, chamaremos simplesmente de _loss function_."
   ]
  },
  {
   "cell_type": "code",
   "execution_count": 11,
   "id": "d56bdf91",
   "metadata": {},
   "outputs": [],
   "source": [
    "loss_function = nn.L1Loss() # torch.mean(torch.abs(y_pred - y_test))\n",
    "\n",
    "optimizer = torch.optim.SGD(params=linear_regression_model.parameters(), lr=0.01) # lr = learning rate"
   ]
  }
 ],
 "metadata": {
  "kernelspec": {
   "display_name": ".venv",
   "language": "python",
   "name": "python3"
  },
  "language_info": {
   "codemirror_mode": {
    "name": "ipython",
    "version": 3
   },
   "file_extension": ".py",
   "mimetype": "text/x-python",
   "name": "python",
   "nbconvert_exporter": "python",
   "pygments_lexer": "ipython3",
   "version": "3.11.9"
  }
 },
 "nbformat": 4,
 "nbformat_minor": 5
}
