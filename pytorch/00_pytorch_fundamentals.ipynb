{
 "cells": [
  {
   "cell_type": "markdown",
   "id": "16189017",
   "metadata": {},
   "source": [
    "## Introdução a tensores"
   ]
  },
  {
   "cell_type": "code",
   "execution_count": 3,
   "id": "e7dad133",
   "metadata": {},
   "outputs": [],
   "source": [
    "import torch"
   ]
  },
  {
   "cell_type": "markdown",
   "id": "a951d765",
   "metadata": {},
   "source": [
    "### Criando tensores\n",
    "\n",
    "* Escalar: valor único (sem dimensão).\n",
    "* Vetor: coleção de valores (1 dimensão) – por exemplo, um pixel na tela pode ser representado como `X, Y, R, G, B`.\n",
    "* Matriz: coleção de vetores (2 dimensões) – por exemplo, uma imagem pode ser representada como uma coleção de pixels.\n",
    "* Tensor: coleção de matrizes (n dimensões) – por exemplo, um GIF pode ser representado como uma coleção de imagens."
   ]
  },
  {
   "cell_type": "code",
   "execution_count": 4,
   "id": "1ee8618b",
   "metadata": {},
   "outputs": [
    {
     "name": "stdout",
     "output_type": "stream",
     "text": [
      "tensor(7)\n",
      "0\n",
      "torch.Size([])\n"
     ]
    }
   ],
   "source": [
    "scalar = torch.tensor(7)\n",
    "\n",
    "print(scalar)\n",
    "print(scalar.ndim)\n",
    "print(scalar.shape)"
   ]
  },
  {
   "cell_type": "code",
   "execution_count": 5,
   "id": "f009cb0e",
   "metadata": {},
   "outputs": [
    {
     "name": "stdout",
     "output_type": "stream",
     "text": [
      "tensor([3, 4, 5])\n",
      "1\n",
      "torch.Size([3])\n"
     ]
    }
   ],
   "source": [
    "vector = torch.tensor([3, 4, 5])\n",
    "\n",
    "print(vector)\n",
    "print(vector.ndim)\n",
    "print(vector.shape)"
   ]
  },
  {
   "cell_type": "code",
   "execution_count": 6,
   "id": "64d633fd",
   "metadata": {},
   "outputs": [
    {
     "name": "stdout",
     "output_type": "stream",
     "text": [
      "tensor([[1, 2],\n",
      "        [3, 4],\n",
      "        [5, 6]])\n",
      "2\n",
      "torch.Size([3, 2])\n"
     ]
    }
   ],
   "source": [
    "matrix = torch.tensor([[1, 2], [3, 4], [5, 6]])\n",
    "\n",
    "print(matrix)\n",
    "print(matrix.ndim)\n",
    "print(matrix.shape)"
   ]
  },
  {
   "cell_type": "code",
   "execution_count": 7,
   "id": "00b8eb6c",
   "metadata": {},
   "outputs": [
    {
     "name": "stdout",
     "output_type": "stream",
     "text": [
      "tensor([[[ 1,  2],\n",
      "         [ 3,  4],\n",
      "         [ 5,  6]],\n",
      "\n",
      "        [[ 7,  8],\n",
      "         [ 9, 10],\n",
      "         [11, 12]],\n",
      "\n",
      "        [[13, 14],\n",
      "         [15, 16],\n",
      "         [17, 18]],\n",
      "\n",
      "        [[19, 20],\n",
      "         [21, 22],\n",
      "         [23, 24]]])\n",
      "3\n",
      "torch.Size([4, 3, 2])\n"
     ]
    }
   ],
   "source": [
    "tensor = torch.tensor([\n",
    "    [[1, 2], [3, 4], [5, 6]],\n",
    "    [[7, 8], [9, 10], [11, 12]],\n",
    "    [[13, 14], [15, 16], [17, 18]],\n",
    "    [[19, 20], [21, 22], [23, 24]]\n",
    "])\n",
    "\n",
    "print(tensor)\n",
    "print(tensor.ndim)\n",
    "print(tensor.shape)"
   ]
  },
  {
   "cell_type": "code",
   "execution_count": 8,
   "id": "6e14a727",
   "metadata": {},
   "outputs": [
    {
     "name": "stdout",
     "output_type": "stream",
     "text": [
      "7\n",
      "tensor(3)\n",
      "tensor([1, 2])\n",
      "tensor([[1, 2],\n",
      "        [3, 4],\n",
      "        [5, 6]])\n",
      "tensor([1, 2])\n",
      "tensor(1)\n"
     ]
    }
   ],
   "source": [
    "print(scalar.item())\n",
    "print(vector[0])\n",
    "print(matrix[0])\n",
    "print(tensor[0])\n",
    "print(tensor[0][0])\n",
    "print(tensor[0][0][0])"
   ]
  },
  {
   "cell_type": "markdown",
   "id": "892525c1",
   "metadata": {},
   "source": [
    "### Tensores aleatórios"
   ]
  },
  {
   "cell_type": "code",
   "execution_count": 9,
   "id": "91f787ce",
   "metadata": {},
   "outputs": [
    {
     "name": "stdout",
     "output_type": "stream",
     "text": [
      "tensor([[0.3017, 0.1897, 0.2874],\n",
      "        [0.2234, 0.2822, 0.7823]])\n",
      "2\n",
      "torch.Size([2, 3])\n"
     ]
    }
   ],
   "source": [
    "random_tensor = torch.rand(2, 3)\n",
    "\n",
    "print(random_tensor)\n",
    "print(random_tensor.ndim)\n",
    "print(random_tensor.shape)"
   ]
  },
  {
   "cell_type": "code",
   "execution_count": 10,
   "id": "fcec33db",
   "metadata": {},
   "outputs": [
    {
     "name": "stdout",
     "output_type": "stream",
     "text": [
      "3\n",
      "torch.Size([1080, 1920, 3])\n"
     ]
    }
   ],
   "source": [
    "image_tensor = torch.rand(1080, 1920, 3) # 1080p @ 3 cores (R, G, B)\n",
    "\n",
    "print(image_tensor.ndim)\n",
    "print(image_tensor.shape)"
   ]
  },
  {
   "cell_type": "markdown",
   "id": "646b848a",
   "metadata": {},
   "source": [
    "### Tensores binários"
   ]
  },
  {
   "cell_type": "code",
   "execution_count": 11,
   "id": "5c6eb2d2",
   "metadata": {},
   "outputs": [
    {
     "name": "stdout",
     "output_type": "stream",
     "text": [
      "tensor([[0., 0., 0.],\n",
      "        [0., 0., 0.]])\n"
     ]
    }
   ],
   "source": [
    "zeros_tensor = torch.zeros(2, 3)\n",
    "\n",
    "print(zeros_tensor)"
   ]
  },
  {
   "cell_type": "code",
   "execution_count": 12,
   "id": "c1a3819d",
   "metadata": {},
   "outputs": [
    {
     "name": "stdout",
     "output_type": "stream",
     "text": [
      "tensor([[1., 1., 1.],\n",
      "        [1., 1., 1.]])\n"
     ]
    }
   ],
   "source": [
    "ones_tensor = torch.ones(2, 3)\n",
    "\n",
    "print(ones_tensor)"
   ]
  },
  {
   "cell_type": "code",
   "execution_count": 13,
   "id": "920785fd",
   "metadata": {},
   "outputs": [
    {
     "name": "stdout",
     "output_type": "stream",
     "text": [
      "tensor([  0,  77, 154, 231, 308, 385, 462, 539, 616, 693, 770, 847, 924])\n",
      "tensor([1, 2, 3, 4, 5, 6, 7, 8, 9])\n",
      "tensor([0, 0, 0, 0, 0, 0, 0, 0, 0])\n"
     ]
    }
   ],
   "source": [
    "print(torch.arange(start=0, end=1000, step=77))\n",
    "print(torch.arange(start=1, end=10, step=1))\n",
    "print(torch.zeros_like(torch.arange(start=1, end=10, step=1)))"
   ]
  },
  {
   "cell_type": "markdown",
   "id": "1db1dfad",
   "metadata": {},
   "source": [
    "### Tipos de dados"
   ]
  },
  {
   "cell_type": "code",
   "execution_count": 14,
   "id": "daac52e8",
   "metadata": {},
   "outputs": [
    {
     "name": "stdout",
     "output_type": "stream",
     "text": [
      "tensor([1, 2, 3]) torch.int64\n",
      "tensor([1., 2., 3.]) torch.float32\n",
      "tensor([1., 2., 3.], dtype=torch.float64) torch.float64\n"
     ]
    }
   ],
   "source": [
    "int_tensor = torch.tensor([1, 2, 3])\n",
    "float_32_tensor = torch.tensor([1, 2.0, 3])\n",
    "float_64_tensor = torch.tensor([1, 2, 3], dtype=torch.float64)\n",
    "\n",
    "print(int_tensor, int_tensor.dtype)\n",
    "print(float_32_tensor, float_32_tensor.dtype)\n",
    "print(float_64_tensor, float_64_tensor.dtype)"
   ]
  },
  {
   "cell_type": "code",
   "execution_count": 15,
   "id": "b395767e",
   "metadata": {},
   "outputs": [
    {
     "name": "stdout",
     "output_type": "stream",
     "text": [
      "tensor([1., 2., 3.], dtype=torch.float16) torch.float16\n"
     ]
    }
   ],
   "source": [
    "float_16_tensor = float_32_tensor.type(torch.float16)\n",
    "\n",
    "print(float_16_tensor, float_16_tensor.dtype)"
   ]
  },
  {
   "cell_type": "code",
   "execution_count": 16,
   "id": "10dbec67",
   "metadata": {},
   "outputs": [
    {
     "name": "stdout",
     "output_type": "stream",
     "text": [
      "torch.float32\n"
     ]
    }
   ],
   "source": [
    "print((float_16_tensor * float_32_tensor).dtype)"
   ]
  },
  {
   "cell_type": "markdown",
   "id": "5a063917",
   "metadata": {},
   "source": [
    "### Informações sobre tensores\n",
    "\n",
    "* Tipo de dados: `tensor.dtype`\n",
    "* Formato: `tensor.shape`\n",
    "* Dispositivo: `tensor.device`"
   ]
  },
  {
   "cell_type": "markdown",
   "id": "ee446bb9",
   "metadata": {},
   "source": [
    "### Manipulando tensores\n",
    "\n",
    "Operações comuns:\n",
    "\n",
    "* Adição\n",
    "* Subtração\n",
    "* Multiplicação escalar\n",
    "* Multiplicação matricial\n",
    "\n",
    "Veja mais informações sobre multiplicação em [How to Multiply Matrices](https://www.mathsisfun.com/algebra/matrix-multiplying.html) e [Matrix Multiplication](http://matrixmultiplication.xyz/).\n",
    "\n",
    "Para multiplicação matricial, as seguintes regras devem ser observadas:\n",
    "\n",
    "* As dimensões internas devem ser condizentes:\n",
    "  - `(3, 2) @ (3, 2)` não funciona\n",
    "  - `(2, 3) @ (3, 2)` funciona\n",
    "  - `(3, 2) @ (2, 3)` funciona\n",
    "* O tensor resultante terá as dimensões das dimensões externas:\n",
    "  - `(2, 3) @ (3, 2)` resulta em `(2, 2)`\n",
    "  - `(3, 2) @ (2, 3)` resulta em `(3, 3)`"
   ]
  },
  {
   "cell_type": "code",
   "execution_count": 24,
   "id": "40174cdb",
   "metadata": {},
   "outputs": [
    {
     "name": "stdout",
     "output_type": "stream",
     "text": [
      "tensor([11, 12, 13])\n",
      "tensor([-9, -8, -7])\n",
      "tensor([10, 20, 30])\n",
      "tensor(14)\n"
     ]
    }
   ],
   "source": [
    "sample = torch.tensor([1, 2, 3])\n",
    "\n",
    "print(sample + 10) # torch.add()\n",
    "print(sample - 10) # torch.sub()\n",
    "print(sample * 10) # torch.mul()\n",
    "print(sample @ sample)  # torch.matmul()"
   ]
  },
  {
   "cell_type": "markdown",
   "id": "654beb7a",
   "metadata": {},
   "source": [
    "Para lidar com erros de dimensão, nós podemos utilizar a transposição matricial. A transposição muda os eixos de um determinado tensor."
   ]
  },
  {
   "cell_type": "code",
   "execution_count": 28,
   "id": "026e05e5",
   "metadata": {},
   "outputs": [
    {
     "ename": "RuntimeError",
     "evalue": "mat1 and mat2 shapes cannot be multiplied (3x2 and 3x2)",
     "output_type": "error",
     "traceback": [
      "\u001b[31m---------------------------------------------------------------------------\u001b[39m",
      "\u001b[31mRuntimeError\u001b[39m                              Traceback (most recent call last)",
      "\u001b[36mCell\u001b[39m\u001b[36m \u001b[39m\u001b[32mIn[28]\u001b[39m\u001b[32m, line 4\u001b[39m\n\u001b[32m      1\u001b[39m tensor_a = torch.tensor([[\u001b[32m1\u001b[39m, \u001b[32m2\u001b[39m], [\u001b[32m3\u001b[39m, \u001b[32m4\u001b[39m], [\u001b[32m5\u001b[39m, \u001b[32m6\u001b[39m]])\n\u001b[32m      2\u001b[39m tensor_b = torch.tensor([[\u001b[32m0\u001b[39m, \u001b[32m1\u001b[39m], [\u001b[32m2\u001b[39m, \u001b[32m3\u001b[39m], [\u001b[32m4\u001b[39m, \u001b[32m5\u001b[39m]])\n\u001b[32m----> \u001b[39m\u001b[32m4\u001b[39m \u001b[43mtensor_a\u001b[49m\u001b[43m \u001b[49m\u001b[43m@\u001b[49m\u001b[43m \u001b[49m\u001b[43mtensor_b\u001b[49m\n",
      "\u001b[31mRuntimeError\u001b[39m: mat1 and mat2 shapes cannot be multiplied (3x2 and 3x2)"
     ]
    }
   ],
   "source": [
    "tensor_a = torch.tensor([[1, 2], [3, 4], [5, 6]])\n",
    "tensor_b = torch.tensor([[0, 1], [2, 3], [4, 5]])\n",
    "\n",
    "tensor_a @ tensor_b"
   ]
  },
  {
   "cell_type": "code",
   "execution_count": 31,
   "id": "668ddff5",
   "metadata": {},
   "outputs": [
    {
     "name": "stdout",
     "output_type": "stream",
     "text": [
      "tensor([[0, 1],\n",
      "        [2, 3],\n",
      "        [4, 5]]) torch.Size([3, 2])\n",
      "tensor([[0, 2, 4],\n",
      "        [1, 3, 5]]) torch.Size([2, 3])\n"
     ]
    }
   ],
   "source": [
    "print(tensor_b, tensor_b.shape)\n",
    "print(tensor_b.T, tensor_b.T.shape)"
   ]
  },
  {
   "cell_type": "code",
   "execution_count": 32,
   "id": "3b1a0058",
   "metadata": {},
   "outputs": [
    {
     "data": {
      "text/plain": [
       "tensor([[ 2,  8, 14],\n",
       "        [ 4, 18, 32],\n",
       "        [ 6, 28, 50]])"
      ]
     },
     "execution_count": 32,
     "metadata": {},
     "output_type": "execute_result"
    }
   ],
   "source": [
    "tensor_a @ tensor_b.T"
   ]
  }
 ],
 "metadata": {
  "kernelspec": {
   "display_name": ".venv",
   "language": "python",
   "name": "python3"
  },
  "language_info": {
   "codemirror_mode": {
    "name": "ipython",
    "version": 3
   },
   "file_extension": ".py",
   "mimetype": "text/x-python",
   "name": "python",
   "nbconvert_exporter": "python",
   "pygments_lexer": "ipython3",
   "version": "3.11.9"
  }
 },
 "nbformat": 4,
 "nbformat_minor": 5
}
