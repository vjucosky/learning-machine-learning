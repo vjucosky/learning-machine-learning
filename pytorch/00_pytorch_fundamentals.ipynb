{
 "cells": [
  {
   "cell_type": "markdown",
   "id": "16189017",
   "metadata": {},
   "source": [
    "## Introdução a tensores"
   ]
  },
  {
   "cell_type": "code",
   "execution_count": 1,
   "id": "e7dad133",
   "metadata": {},
   "outputs": [],
   "source": [
    "import torch"
   ]
  },
  {
   "cell_type": "markdown",
   "id": "a951d765",
   "metadata": {},
   "source": [
    "### Criando tensores\n",
    "\n",
    "* Escalar: valor único (sem dimensão).\n",
    "* Vetor: coleção de valores (1 dimensão) – por exemplo, um pixel na tela pode ser representado como `X, Y, R, G, B`.\n",
    "* Matriz: coleção de vetores (2 dimensões) – por exemplo, uma imagem pode ser representada como uma coleção de pixels.\n",
    "* Tensor: coleção de matrizes (n dimensões) – por exemplo, um GIF pode ser representado como uma coleção de imagens."
   ]
  },
  {
   "cell_type": "code",
   "execution_count": 2,
   "id": "1ee8618b",
   "metadata": {},
   "outputs": [
    {
     "name": "stdout",
     "output_type": "stream",
     "text": [
      "tensor(7)\n",
      "0\n",
      "torch.Size([])\n"
     ]
    }
   ],
   "source": [
    "scalar = torch.tensor(7)\n",
    "\n",
    "print(scalar)\n",
    "print(scalar.ndim)\n",
    "print(scalar.shape)"
   ]
  },
  {
   "cell_type": "code",
   "execution_count": 3,
   "id": "f009cb0e",
   "metadata": {},
   "outputs": [
    {
     "name": "stdout",
     "output_type": "stream",
     "text": [
      "tensor([3, 4, 5])\n",
      "1\n",
      "torch.Size([3])\n"
     ]
    }
   ],
   "source": [
    "vector = torch.tensor([3, 4, 5])\n",
    "\n",
    "print(vector)\n",
    "print(vector.ndim)\n",
    "print(vector.shape)"
   ]
  },
  {
   "cell_type": "code",
   "execution_count": 4,
   "id": "64d633fd",
   "metadata": {},
   "outputs": [
    {
     "name": "stdout",
     "output_type": "stream",
     "text": [
      "tensor([[1, 2],\n",
      "        [3, 4],\n",
      "        [5, 6]])\n",
      "2\n",
      "torch.Size([3, 2])\n"
     ]
    }
   ],
   "source": [
    "matrix = torch.tensor([[1, 2], [3, 4], [5, 6]])\n",
    "\n",
    "print(matrix)\n",
    "print(matrix.ndim)\n",
    "print(matrix.shape)"
   ]
  },
  {
   "cell_type": "code",
   "execution_count": 5,
   "id": "00b8eb6c",
   "metadata": {},
   "outputs": [
    {
     "name": "stdout",
     "output_type": "stream",
     "text": [
      "tensor([[[ 1,  2],\n",
      "         [ 3,  4],\n",
      "         [ 5,  6]],\n",
      "\n",
      "        [[ 7,  8],\n",
      "         [ 9, 10],\n",
      "         [11, 12]],\n",
      "\n",
      "        [[13, 14],\n",
      "         [15, 16],\n",
      "         [17, 18]],\n",
      "\n",
      "        [[19, 20],\n",
      "         [21, 22],\n",
      "         [23, 24]]])\n",
      "3\n",
      "torch.Size([4, 3, 2])\n"
     ]
    }
   ],
   "source": [
    "tensor = torch.tensor([\n",
    "    [[1, 2], [3, 4], [5, 6]],\n",
    "    [[7, 8], [9, 10], [11, 12]],\n",
    "    [[13, 14], [15, 16], [17, 18]],\n",
    "    [[19, 20], [21, 22], [23, 24]]\n",
    "])\n",
    "\n",
    "print(tensor)\n",
    "print(tensor.ndim)\n",
    "print(tensor.shape)"
   ]
  },
  {
   "cell_type": "code",
   "execution_count": 6,
   "id": "6e14a727",
   "metadata": {},
   "outputs": [
    {
     "name": "stdout",
     "output_type": "stream",
     "text": [
      "7\n",
      "tensor(3)\n",
      "tensor([1, 2])\n",
      "tensor([[1, 2],\n",
      "        [3, 4],\n",
      "        [5, 6]])\n",
      "tensor([1, 2])\n",
      "tensor(1)\n"
     ]
    }
   ],
   "source": [
    "print(scalar.item())\n",
    "print(vector[0])\n",
    "print(matrix[0])\n",
    "print(tensor[0])\n",
    "print(tensor[0][0])\n",
    "print(tensor[0][0][0])"
   ]
  },
  {
   "cell_type": "markdown",
   "id": "892525c1",
   "metadata": {},
   "source": [
    "### Tensores aleatórios"
   ]
  },
  {
   "cell_type": "code",
   "execution_count": 7,
   "id": "91f787ce",
   "metadata": {},
   "outputs": [
    {
     "name": "stdout",
     "output_type": "stream",
     "text": [
      "tensor([[0.6643, 0.2693, 0.6579],\n",
      "        [0.1999, 0.3974, 0.9432]])\n",
      "2\n",
      "torch.Size([2, 3])\n"
     ]
    }
   ],
   "source": [
    "random_tensor = torch.rand(2, 3)\n",
    "\n",
    "print(random_tensor)\n",
    "print(random_tensor.ndim)\n",
    "print(random_tensor.shape)"
   ]
  },
  {
   "cell_type": "code",
   "execution_count": 8,
   "id": "fcec33db",
   "metadata": {},
   "outputs": [
    {
     "name": "stdout",
     "output_type": "stream",
     "text": [
      "3\n",
      "torch.Size([1080, 1920, 3])\n"
     ]
    }
   ],
   "source": [
    "image_tensor = torch.rand(1080, 1920, 3) # 1080p @ 3 cores (R, G, B)\n",
    "\n",
    "print(image_tensor.ndim)\n",
    "print(image_tensor.shape)"
   ]
  },
  {
   "cell_type": "markdown",
   "id": "646b848a",
   "metadata": {},
   "source": [
    "### Tensores binários"
   ]
  },
  {
   "cell_type": "code",
   "execution_count": 9,
   "id": "5c6eb2d2",
   "metadata": {},
   "outputs": [
    {
     "name": "stdout",
     "output_type": "stream",
     "text": [
      "tensor([[0., 0., 0.],\n",
      "        [0., 0., 0.]])\n"
     ]
    }
   ],
   "source": [
    "zeros_tensor = torch.zeros(2, 3)\n",
    "\n",
    "print(zeros_tensor)"
   ]
  },
  {
   "cell_type": "code",
   "execution_count": 10,
   "id": "c1a3819d",
   "metadata": {},
   "outputs": [
    {
     "name": "stdout",
     "output_type": "stream",
     "text": [
      "tensor([[1., 1., 1.],\n",
      "        [1., 1., 1.]])\n"
     ]
    }
   ],
   "source": [
    "ones_tensor = torch.ones(2, 3)\n",
    "\n",
    "print(ones_tensor)"
   ]
  },
  {
   "cell_type": "code",
   "execution_count": 11,
   "id": "920785fd",
   "metadata": {},
   "outputs": [
    {
     "name": "stdout",
     "output_type": "stream",
     "text": [
      "tensor([  0,  77, 154, 231, 308, 385, 462, 539, 616, 693, 770, 847, 924])\n",
      "tensor([1, 2, 3, 4, 5, 6, 7, 8, 9])\n",
      "tensor([0, 0, 0, 0, 0, 0, 0, 0, 0])\n"
     ]
    }
   ],
   "source": [
    "print(torch.arange(start=0, end=1000, step=77))\n",
    "print(torch.arange(start=1, end=10, step=1))\n",
    "print(torch.zeros_like(torch.arange(start=1, end=10, step=1)))"
   ]
  },
  {
   "cell_type": "markdown",
   "id": "1db1dfad",
   "metadata": {},
   "source": [
    "### Tipos de dados"
   ]
  },
  {
   "cell_type": "code",
   "execution_count": 12,
   "id": "daac52e8",
   "metadata": {},
   "outputs": [
    {
     "name": "stdout",
     "output_type": "stream",
     "text": [
      "tensor([1, 2, 3]) torch.int64\n",
      "tensor([1., 2., 3.]) torch.float32\n",
      "tensor([1., 2., 3.], dtype=torch.float64) torch.float64\n"
     ]
    }
   ],
   "source": [
    "int_tensor = torch.tensor([1, 2, 3])\n",
    "float_32_tensor = torch.tensor([1, 2.0, 3])\n",
    "float_64_tensor = torch.tensor([1, 2, 3], dtype=torch.float64)\n",
    "\n",
    "print(int_tensor, int_tensor.dtype)\n",
    "print(float_32_tensor, float_32_tensor.dtype)\n",
    "print(float_64_tensor, float_64_tensor.dtype)"
   ]
  },
  {
   "cell_type": "code",
   "execution_count": 13,
   "id": "b395767e",
   "metadata": {},
   "outputs": [
    {
     "name": "stdout",
     "output_type": "stream",
     "text": [
      "tensor([1., 2., 3.], dtype=torch.float16) torch.float16\n"
     ]
    }
   ],
   "source": [
    "float_16_tensor = float_32_tensor.type(torch.float16)\n",
    "\n",
    "print(float_16_tensor, float_16_tensor.dtype)"
   ]
  },
  {
   "cell_type": "code",
   "execution_count": 14,
   "id": "10dbec67",
   "metadata": {},
   "outputs": [
    {
     "name": "stdout",
     "output_type": "stream",
     "text": [
      "torch.float32\n"
     ]
    }
   ],
   "source": [
    "print((float_16_tensor * float_32_tensor).dtype)"
   ]
  },
  {
   "cell_type": "markdown",
   "id": "5a063917",
   "metadata": {},
   "source": [
    "### Informações sobre tensores\n",
    "\n",
    "* Tipo de dados: `tensor.dtype`\n",
    "* Formato: `tensor.shape`\n",
    "* Dispositivo: `tensor.device`"
   ]
  },
  {
   "cell_type": "markdown",
   "id": "ee446bb9",
   "metadata": {},
   "source": [
    "### Manipulando tensores\n",
    "\n",
    "Operações comuns:\n",
    "\n",
    "* Adição\n",
    "* Subtração\n",
    "* Multiplicação escalar\n",
    "* Multiplicação matricial\n",
    "\n",
    "Veja mais informações sobre multiplicação em [How to Multiply Matrices](https://www.mathsisfun.com/algebra/matrix-multiplying.html) e [Matrix Multiplication](http://matrixmultiplication.xyz/).\n",
    "\n",
    "Para multiplicação matricial, as seguintes regras devem ser observadas:\n",
    "\n",
    "* As dimensões internas devem ser condizentes:\n",
    "  - `(3, 2) @ (3, 2)` não funciona\n",
    "  - `(2, 3) @ (3, 2)` funciona\n",
    "  - `(3, 2) @ (2, 3)` funciona\n",
    "* O tensor resultante terá as dimensões das dimensões externas:\n",
    "  - `(2, 3) @ (3, 2)` resulta em `(2, 2)`\n",
    "  - `(3, 2) @ (2, 3)` resulta em `(3, 3)`"
   ]
  },
  {
   "cell_type": "code",
   "execution_count": 15,
   "id": "40174cdb",
   "metadata": {},
   "outputs": [
    {
     "name": "stdout",
     "output_type": "stream",
     "text": [
      "tensor([11, 12, 13])\n",
      "tensor([-9, -8, -7])\n",
      "tensor([10, 20, 30])\n",
      "tensor(14)\n"
     ]
    }
   ],
   "source": [
    "sample = torch.tensor([1, 2, 3])\n",
    "\n",
    "print(sample + 10) # torch.add()\n",
    "print(sample - 10) # torch.sub()\n",
    "print(sample * 10) # torch.mul()\n",
    "print(sample @ sample)  # torch.matmul()"
   ]
  },
  {
   "cell_type": "markdown",
   "id": "654beb7a",
   "metadata": {},
   "source": [
    "Para lidar com erros de dimensão, nós podemos utilizar a transposição matricial. A transposição muda os eixos de um determinado tensor."
   ]
  },
  {
   "cell_type": "code",
   "execution_count": 16,
   "id": "026e05e5",
   "metadata": {},
   "outputs": [
    {
     "ename": "RuntimeError",
     "evalue": "mat1 and mat2 shapes cannot be multiplied (3x2 and 3x2)",
     "output_type": "error",
     "traceback": [
      "\u001b[31m---------------------------------------------------------------------------\u001b[39m",
      "\u001b[31mRuntimeError\u001b[39m                              Traceback (most recent call last)",
      "\u001b[36mCell\u001b[39m\u001b[36m \u001b[39m\u001b[32mIn[16]\u001b[39m\u001b[32m, line 4\u001b[39m\n\u001b[32m      1\u001b[39m tensor_a = torch.tensor([[\u001b[32m1\u001b[39m, \u001b[32m2\u001b[39m], [\u001b[32m3\u001b[39m, \u001b[32m4\u001b[39m], [\u001b[32m5\u001b[39m, \u001b[32m6\u001b[39m]])\n\u001b[32m      2\u001b[39m tensor_b = torch.tensor([[\u001b[32m0\u001b[39m, \u001b[32m1\u001b[39m], [\u001b[32m2\u001b[39m, \u001b[32m3\u001b[39m], [\u001b[32m4\u001b[39m, \u001b[32m5\u001b[39m]])\n\u001b[32m----> \u001b[39m\u001b[32m4\u001b[39m \u001b[43mtensor_a\u001b[49m\u001b[43m \u001b[49m\u001b[43m@\u001b[49m\u001b[43m \u001b[49m\u001b[43mtensor_b\u001b[49m\n",
      "\u001b[31mRuntimeError\u001b[39m: mat1 and mat2 shapes cannot be multiplied (3x2 and 3x2)"
     ]
    }
   ],
   "source": [
    "tensor_a = torch.tensor([[1, 2], [3, 4], [5, 6]])\n",
    "tensor_b = torch.tensor([[0, 1], [2, 3], [4, 5]])\n",
    "\n",
    "tensor_a @ tensor_b"
   ]
  },
  {
   "cell_type": "code",
   "execution_count": 17,
   "id": "668ddff5",
   "metadata": {},
   "outputs": [
    {
     "name": "stdout",
     "output_type": "stream",
     "text": [
      "tensor([[0, 1],\n",
      "        [2, 3],\n",
      "        [4, 5]]) torch.Size([3, 2])\n",
      "tensor([[0, 2, 4],\n",
      "        [1, 3, 5]]) torch.Size([2, 3])\n"
     ]
    }
   ],
   "source": [
    "print(tensor_b, tensor_b.shape)\n",
    "print(tensor_b.T, tensor_b.T.shape)"
   ]
  },
  {
   "cell_type": "code",
   "execution_count": 18,
   "id": "3b1a0058",
   "metadata": {},
   "outputs": [
    {
     "data": {
      "text/plain": [
       "tensor([[ 2,  8, 14],\n",
       "        [ 4, 18, 32],\n",
       "        [ 6, 28, 50]])"
      ]
     },
     "execution_count": 18,
     "metadata": {},
     "output_type": "execute_result"
    }
   ],
   "source": [
    "tensor_a @ tensor_b.T"
   ]
  },
  {
   "cell_type": "markdown",
   "id": "d74be69d",
   "metadata": {},
   "source": [
    "**Curiosidade pessoal:** qual a amplitude resultante ao se adicionar infinitas matrizes aleatórias de intervalo `[0, 1]` (soma de ruídos)? Intuição: tende a ser 1.\n",
    "\n",
    "**Resposta:** a função `rand()` fo PyTorch gera valores no intervalo `[0, 1)`, não `[0, 1]`. Assim, a pequena possibilidade do valor `1` não ser gerado se acumula ao longo das iterações, gerando uma diferença significativa no final. Mesmo assim, é possível observar que a diferença entre os máximos e mínimos na matriz resultante tende a aumentar e estabilizar-se."
   ]
  },
  {
   "cell_type": "code",
   "execution_count": 19,
   "id": "58584c3e",
   "metadata": {},
   "outputs": [
    {
     "name": "stdout",
     "output_type": "stream",
     "text": [
      "Epoch 0, values are: min. 0.0; max. 0.0; diff. 0.0; weighted diff. nan\n",
      "Epoch 100000, values are: min. 49681.9; max. 50350.0; diff. 668.1; weighted diff. 668.1\n",
      "Epoch 200000, values are: min. 99555.4; max. 100602.9; diff. 1047.4; weighted diff. 523.7\n",
      "Epoch 300000, values are: min. 149401.0; max. 150627.7; diff. 1226.7; weighted diff. 408.9\n",
      "Epoch 400000, values are: min. 199289.6; max. 200670.6; diff. 1381.0; weighted diff. 345.2\n",
      "Epoch 500000, values are: min. 249188.2; max. 250787.9; diff. 1599.7; weighted diff. 319.9\n",
      "Epoch 600000, values are: min. 299137.5; max. 300960.1; diff. 1822.6; weighted diff. 303.8\n",
      "Epoch 700000, values are: min. 348967.0; max. 350856.1; diff. 1889.1; weighted diff. 269.9\n",
      "Epoch 800000, values are: min. 398892.0; max. 401020.2; diff. 2128.2; weighted diff. 266.0\n",
      "Epoch 900000, values are: min. 448914.9; max. 451124.9; diff. 2210.0; weighted diff. 245.6\n",
      "Epoch 1000000, values are: min. 498860.3; max. 501110.2; diff. 2249.8; weighted diff. 225.0\n",
      "Epoch 1100000, values are: min. 548772.4; max. 551211.2; diff. 2438.8; weighted diff. 221.7\n",
      "Epoch 1200000, values are: min. 598894.4; max. 601194.6; diff. 2300.1; weighted diff. 191.7\n",
      "Epoch 1300000, values are: min. 648801.6; max. 651215.9; diff. 2414.3; weighted diff. 185.7\n",
      "Epoch 1400000, values are: min. 698822.6; max. 701307.6; diff. 2485.1; weighted diff. 177.5\n",
      "Epoch 1500000, values are: min. 748777.9; max. 751346.6; diff. 2568.8; weighted diff. 171.2\n",
      "Epoch 1600000, values are: min. 798575.6; max. 801289.9; diff. 2714.4; weighted diff. 169.6\n",
      "Epoch 1700000, values are: min. 848443.4; max. 851464.8; diff. 3021.4; weighted diff. 177.7\n",
      "Epoch 1800000, values are: min. 898309.7; max. 901352.6; diff. 3042.9; weighted diff. 169.1\n",
      "Epoch 1900000, values are: min. 948199.4; max. 951419.9; diff. 3220.4; weighted diff. 169.5\n"
     ]
    }
   ],
   "source": [
    "step = 100000\n",
    "result = torch.zeros(100, 100)\n",
    "\n",
    "for i in range(0, step * 20):\n",
    "    if i % step == 0:\n",
    "        print(f'Epoch {i}, values are: min. {result.min():.1f}; max. {result.max():.1f}; diff. {(result.max() - result.min()):.1f}; weighted diff. {((result.max() - result.min()) / (i / step)):.1f}')\n",
    "\n",
    "    result += torch.rand(100, 100)"
   ]
  },
  {
   "cell_type": "code",
   "execution_count": 20,
   "id": "9cab3841",
   "metadata": {},
   "outputs": [
    {
     "name": "stdout",
     "output_type": "stream",
     "text": [
      "Epoch 0, values are: min. 0; max. 0; diff. 0; weighted diff. nan\n",
      "Epoch 10000, values are: min. 4833; max. 5177; diff. 344; weighted diff. 344.0\n",
      "Epoch 20000, values are: min. 9731; max. 10258; diff. 527; weighted diff. 263.5\n",
      "Epoch 30000, values are: min. 14674; max. 15320; diff. 646; weighted diff. 215.3\n",
      "Epoch 40000, values are: min. 19597; max. 20392; diff. 795; weighted diff. 198.8\n",
      "Epoch 50000, values are: min. 24589; max. 25446; diff. 857; weighted diff. 171.4\n",
      "Epoch 60000, values are: min. 29518; max. 30497; diff. 979; weighted diff. 163.2\n",
      "Epoch 70000, values are: min. 34471; max. 35590; diff. 1119; weighted diff. 159.9\n",
      "Epoch 80000, values are: min. 39500; max. 40646; diff. 1146; weighted diff. 143.2\n",
      "Epoch 90000, values are: min. 44417; max. 45725; diff. 1308; weighted diff. 145.3\n",
      "Epoch 100000, values are: min. 49402; max. 50765; diff. 1363; weighted diff. 136.3\n",
      "Epoch 110000, values are: min. 54403; max. 55751; diff. 1348; weighted diff. 122.5\n",
      "Epoch 120000, values are: min. 59319; max. 60768; diff. 1449; weighted diff. 120.8\n",
      "Epoch 130000, values are: min. 64282; max. 65665; diff. 1383; weighted diff. 106.4\n",
      "Epoch 140000, values are: min. 69257; max. 70684; diff. 1427; weighted diff. 101.9\n",
      "Epoch 150000, values are: min. 74278; max. 75741; diff. 1463; weighted diff. 97.5\n",
      "Epoch 160000, values are: min. 79245; max. 80753; diff. 1508; weighted diff. 94.2\n",
      "Epoch 170000, values are: min. 84187; max. 85825; diff. 1638; weighted diff. 96.4\n",
      "Epoch 180000, values are: min. 89143; max. 90775; diff. 1632; weighted diff. 90.7\n",
      "Epoch 190000, values are: min. 94142; max. 95805; diff. 1663; weighted diff. 87.5\n"
     ]
    }
   ],
   "source": [
    "step = 10000\n",
    "result = torch.zeros(100, 100, dtype=torch.int)\n",
    "\n",
    "for i in range(0, step * 20):\n",
    "    if i % step == 0:\n",
    "        print(f'Epoch {i}, values are: min. {result.min()}; max. {result.max()}; diff. {(result.max() - result.min())}; weighted diff. {((result.max() - result.min()) / (i / step)):.1f}')\n",
    "\n",
    "    result += torch.randint(0, 2, (100, 100))"
   ]
  },
  {
   "cell_type": "markdown",
   "id": "dd9ec03b",
   "metadata": {},
   "source": [
    "### Agregando tensores\n",
    "\n",
    "Operações comuns:\n",
    "\n",
    "* Mínimo\n",
    "* Máximo\n",
    "* Média\n",
    "* Soma"
   ]
  },
  {
   "cell_type": "code",
   "execution_count": 21,
   "id": "c1f02257",
   "metadata": {},
   "outputs": [
    {
     "name": "stdout",
     "output_type": "stream",
     "text": [
      "tensor(0.)\n",
      "tensor(90.)\n",
      "tensor(45.)\n",
      "tensor(450.)\n"
     ]
    }
   ],
   "source": [
    "sample = torch.arange(0, 100, 10, dtype=torch.float32)\n",
    "\n",
    "print(sample.min()) # torch.min(sample)\n",
    "print(sample.max()) # torch.max(sample)\n",
    "print(sample.mean()) # torch.mean(sample)\n",
    "print(sample.sum()) # torch.sum(sample)"
   ]
  },
  {
   "cell_type": "markdown",
   "id": "024a20bc",
   "metadata": {},
   "source": [
    "### Encontrando mínimos e máximos posicionais"
   ]
  },
  {
   "cell_type": "code",
   "execution_count": 22,
   "id": "da15335d",
   "metadata": {},
   "outputs": [
    {
     "name": "stdout",
     "output_type": "stream",
     "text": [
      "tensor(0)\n",
      "tensor(9)\n"
     ]
    }
   ],
   "source": [
    "print(sample.argmin())\n",
    "print(sample.argmax())"
   ]
  },
  {
   "cell_type": "markdown",
   "id": "c183ea38",
   "metadata": {},
   "source": [
    "### Alterando a forma dos tensores\n",
    "\n",
    "* _Reshaping_: altera a forma do tensor.\n",
    "* _View_: vista de determinado tensor, compartilhando o objeto na memória.\n",
    "* _Stacking_: sobrepõe os tensores em determinada dimensão.\n",
    "* _Squeeze_: remove dimensões vazias.\n",
    "* _Unsqueeze_: adiciona dimensões vazias em determinada dimensão.\n",
    "* _Permute_: altera a ordem das dimensões (retorna uma `view` do tensor original)."
   ]
  },
  {
   "cell_type": "code",
   "execution_count": 23,
   "id": "0f35c4f8",
   "metadata": {},
   "outputs": [
    {
     "name": "stdout",
     "output_type": "stream",
     "text": [
      "tensor([ 0., 10., 20., 30., 40., 50., 60., 70., 80., 90.])\n",
      "torch.Size([10])\n"
     ]
    }
   ],
   "source": [
    "print(sample)\n",
    "print(sample.shape)"
   ]
  },
  {
   "cell_type": "code",
   "execution_count": 24,
   "id": "9db9334c",
   "metadata": {},
   "outputs": [
    {
     "name": "stdout",
     "output_type": "stream",
     "text": [
      "tensor([[ 0., 10., 20., 30., 40.],\n",
      "        [50., 60., 70., 80., 90.]])\n",
      "torch.Size([2, 5])\n"
     ]
    }
   ],
   "source": [
    "reshaped = sample.reshape(2, 5)\n",
    "\n",
    "print(reshaped)\n",
    "print(reshaped.shape)"
   ]
  },
  {
   "cell_type": "code",
   "execution_count": 25,
   "id": "ece33768",
   "metadata": {},
   "outputs": [
    {
     "name": "stdout",
     "output_type": "stream",
     "text": [
      "tensor([[ 0., 10.],\n",
      "        [20., 30.],\n",
      "        [40., 50.],\n",
      "        [60., 70.],\n",
      "        [80., 90.]])\n",
      "torch.Size([5, 2])\n"
     ]
    }
   ],
   "source": [
    "reshaped = sample.reshape(5, 2)\n",
    "\n",
    "print(reshaped)\n",
    "print(reshaped.shape)"
   ]
  },
  {
   "cell_type": "code",
   "execution_count": 26,
   "id": "a756c5ca",
   "metadata": {},
   "outputs": [
    {
     "name": "stdout",
     "output_type": "stream",
     "text": [
      "tensor([[ 0.],\n",
      "        [10.],\n",
      "        [20.],\n",
      "        [30.],\n",
      "        [40.],\n",
      "        [50.],\n",
      "        [60.],\n",
      "        [70.],\n",
      "        [80.],\n",
      "        [90.]])\n",
      "torch.Size([10, 1])\n"
     ]
    }
   ],
   "source": [
    "reshaped = sample.reshape(10, 1)\n",
    "\n",
    "print(reshaped)\n",
    "print(reshaped.shape)"
   ]
  },
  {
   "cell_type": "code",
   "execution_count": 27,
   "id": "6448fdb5",
   "metadata": {},
   "outputs": [
    {
     "name": "stdout",
     "output_type": "stream",
     "text": [
      "tensor([ 0., 10., 20., 30., 40., 50., 60., 70., 80., 90.])\n",
      "tensor([[ 0., 10., 20., 30., 40.],\n",
      "        [50., 60., 70., 80., 90.]])\n"
     ]
    }
   ],
   "source": [
    "view = sample.view(2, 5)\n",
    "\n",
    "print(sample)\n",
    "print(view)"
   ]
  },
  {
   "cell_type": "code",
   "execution_count": 28,
   "id": "18d2372a",
   "metadata": {},
   "outputs": [
    {
     "name": "stdout",
     "output_type": "stream",
     "text": [
      "tensor([ 5., 10., 20., 30., 40.,  5., 60., 70., 80., 90.])\n",
      "tensor([[ 5., 10., 20., 30., 40.],\n",
      "        [ 5., 60., 70., 80., 90.]])\n"
     ]
    }
   ],
   "source": [
    "view[:, 0] = 5\n",
    "\n",
    "print(sample)\n",
    "print(view)"
   ]
  },
  {
   "cell_type": "code",
   "execution_count": 29,
   "id": "a010d2f2",
   "metadata": {},
   "outputs": [
    {
     "name": "stdout",
     "output_type": "stream",
     "text": [
      "tensor([[ 5., 10., 20., 30., 40.,  5., 60., 70., 80., 90.],\n",
      "        [ 5., 10., 20., 30., 40.,  5., 60., 70., 80., 90.],\n",
      "        [ 5., 10., 20., 30., 40.,  5., 60., 70., 80., 90.]])\n",
      "tensor([[ 5.,  5.,  5.],\n",
      "        [10., 10., 10.],\n",
      "        [20., 20., 20.],\n",
      "        [30., 30., 30.],\n",
      "        [40., 40., 40.],\n",
      "        [ 5.,  5.,  5.],\n",
      "        [60., 60., 60.],\n",
      "        [70., 70., 70.],\n",
      "        [80., 80., 80.],\n",
      "        [90., 90., 90.]])\n"
     ]
    }
   ],
   "source": [
    "print(torch.stack([sample, sample, sample], dim=0))\n",
    "print(torch.stack([sample, sample, sample], dim=1))"
   ]
  },
  {
   "cell_type": "code",
   "execution_count": 30,
   "id": "dd3517b7",
   "metadata": {},
   "outputs": [
    {
     "name": "stdout",
     "output_type": "stream",
     "text": [
      "tensor([1, 0, 6, 5, 7])\n"
     ]
    }
   ],
   "source": [
    "print(torch.tensor([[[[1, 0, 6, 5, 7]]]]).squeeze())"
   ]
  },
  {
   "cell_type": "code",
   "execution_count": 31,
   "id": "bd0fba99",
   "metadata": {},
   "outputs": [
    {
     "name": "stdout",
     "output_type": "stream",
     "text": [
      "tensor([[ 5., 10., 20., 30., 40.,  5., 60., 70., 80., 90.]])\n",
      "tensor([[ 5.],\n",
      "        [10.],\n",
      "        [20.],\n",
      "        [30.],\n",
      "        [40.],\n",
      "        [ 5.],\n",
      "        [60.],\n",
      "        [70.],\n",
      "        [80.],\n",
      "        [90.]])\n"
     ]
    }
   ],
   "source": [
    "print(sample.unsqueeze(0))\n",
    "print(sample.unsqueeze(1))"
   ]
  },
  {
   "cell_type": "code",
   "execution_count": 56,
   "id": "63e382a0",
   "metadata": {},
   "outputs": [
    {
     "name": "stdout",
     "output_type": "stream",
     "text": [
      "torch.Size([1080, 1920, 3])\n",
      "torch.Size([3, 1080, 1920])\n"
     ]
    }
   ],
   "source": [
    "print(image_tensor.size())\n",
    "print(image_tensor.permute(2, 0, 1).size())"
   ]
  },
  {
   "cell_type": "markdown",
   "id": "0881e8a8",
   "metadata": {},
   "source": [
    "### Selecionando dados de tensores\n",
    "\n",
    "* Indexação"
   ]
  },
  {
   "cell_type": "code",
   "execution_count": 57,
   "id": "e61fcaed",
   "metadata": {},
   "outputs": [
    {
     "name": "stdout",
     "output_type": "stream",
     "text": [
      "tensor([[1, 2, 3],\n",
      "        [4, 5, 6],\n",
      "        [7, 8, 9]])\n"
     ]
    }
   ],
   "source": [
    "data = torch.tensor([[1, 2, 3], [4, 5, 6], [7, 8, 9]])\n",
    "\n",
    "print(data)"
   ]
  },
  {
   "cell_type": "code",
   "execution_count": 58,
   "id": "1dd32ee5",
   "metadata": {},
   "outputs": [
    {
     "name": "stdout",
     "output_type": "stream",
     "text": [
      "tensor([1, 2, 3])\n",
      "tensor(1)\n",
      "tensor([1, 4, 7])\n",
      "tensor([1, 2, 3])\n",
      "tensor([1, 2, 3])\n"
     ]
    }
   ],
   "source": [
    "print(data[0])\n",
    "print(data[0][0])\n",
    "print(data[:, 0])\n",
    "print(data[:][0])\n",
    "print(data[:][:][:][:][0])"
   ]
  },
  {
   "cell_type": "code",
   "execution_count": 59,
   "id": "71fc631c",
   "metadata": {},
   "outputs": [
    {
     "name": "stdout",
     "output_type": "stream",
     "text": [
      "tensor([2, 3])\n",
      "tensor([1])\n",
      "tensor([4, 7])\n",
      "tensor([5, 8])\n",
      "tensor([[5, 6],\n",
      "        [8, 9]])\n"
     ]
    }
   ],
   "source": [
    "print(data[0, 1:])\n",
    "print(data[0, :1])\n",
    "print(data[1:, 0])\n",
    "print(data[1:, 1])\n",
    "print(data[1:, 1:])"
   ]
  }
 ],
 "metadata": {
  "kernelspec": {
   "display_name": ".venv",
   "language": "python",
   "name": "python3"
  },
  "language_info": {
   "codemirror_mode": {
    "name": "ipython",
    "version": 3
   },
   "file_extension": ".py",
   "mimetype": "text/x-python",
   "name": "python",
   "nbconvert_exporter": "python",
   "pygments_lexer": "ipython3",
   "version": "3.11.9"
  }
 },
 "nbformat": 4,
 "nbformat_minor": 5
}
